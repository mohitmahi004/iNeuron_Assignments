{
 "cells": [
  {
   "cell_type": "markdown",
   "id": "80f9f6df",
   "metadata": {},
   "source": [
    " #  Name : Mohit Mahi\n",
    " \n",
    " ## Assignment Name : Python Assignment 3\n",
    " \n",
    " ### Company Name : iNeuron"
   ]
  },
  {
   "cell_type": "raw",
   "id": "85a05753",
   "metadata": {},
   "source": [
    "1.1 Write a Python Program to implement your own myreduce() function which works exactly  like Python's built-in function reduce()."
   ]
  },
  {
   "cell_type": "code",
   "execution_count": 3,
   "id": "34b553d3",
   "metadata": {},
   "outputs": [],
   "source": [
    "def myreduce(anyFunc, sequence):\n",
    "    \n",
    "    # first sequence data\n",
    "    result = sequence[0]\n",
    "    \n",
    "    # looping number of operation\n",
    "    for i in sequence[1:]:\n",
    "        result = anyFunc(result, i)\n",
    "    \n",
    "    return result"
   ]
  },
  {
   "cell_type": "code",
   "execution_count": 4,
   "id": "46594929",
   "metadata": {},
   "outputs": [
    {
     "data": {
      "text/plain": [
       "77"
      ]
     },
     "execution_count": 4,
     "metadata": {},
     "output_type": "execute_result"
    }
   ],
   "source": [
    "myreduce(lambda x, y : x+y, [10,2,3,4,53,2,2,1])"
   ]
  },
  {
   "cell_type": "code",
   "execution_count": 5,
   "id": "cb724cc3",
   "metadata": {},
   "outputs": [
    {
     "data": {
      "text/plain": [
       "77"
      ]
     },
     "execution_count": 5,
     "metadata": {},
     "output_type": "execute_result"
    }
   ],
   "source": [
    "from functools import reduce\n",
    "reduce(lambda x, y : x+y, [10,2,3,4,53,2,2,1])"
   ]
  },
  {
   "cell_type": "code",
   "execution_count": 6,
   "id": "0f7f67ef",
   "metadata": {},
   "outputs": [
    {
     "data": {
      "text/plain": [
       "0.0019654088050314465"
      ]
     },
     "execution_count": 6,
     "metadata": {},
     "output_type": "execute_result"
    }
   ],
   "source": [
    "myreduce(lambda x, y : x/y, [10,2,3,4,53,2,2,1])"
   ]
  },
  {
   "cell_type": "code",
   "execution_count": 7,
   "id": "5d15ae1c",
   "metadata": {},
   "outputs": [
    {
     "data": {
      "text/plain": [
       "0.0019654088050314465"
      ]
     },
     "execution_count": 7,
     "metadata": {},
     "output_type": "execute_result"
    }
   ],
   "source": [
    "reduce(lambda x, y : x/y, [10,2,3,4,53,2,2,1])"
   ]
  },
  {
   "cell_type": "raw",
   "id": "194c0947",
   "metadata": {},
   "source": [
    "1.2 Write a Python program to implement your own myfilter() function which works exactly  like Python's built-in function filter()."
   ]
  },
  {
   "cell_type": "code",
   "execution_count": 12,
   "id": "9faac3a5",
   "metadata": {},
   "outputs": [],
   "source": [
    "l = [4,5,6,7,8,6,7,8,8]"
   ]
  },
  {
   "cell_type": "code",
   "execution_count": 9,
   "id": "ab754c4c",
   "metadata": {},
   "outputs": [
    {
     "data": {
      "text/plain": [
       "[4, 6, 8, 6, 8, 8]"
      ]
     },
     "execution_count": 9,
     "metadata": {},
     "output_type": "execute_result"
    }
   ],
   "source": [
    "list(filter(lambda x: x%2==0, l))"
   ]
  },
  {
   "cell_type": "code",
   "execution_count": 25,
   "id": "5d78e913",
   "metadata": {},
   "outputs": [],
   "source": [
    "def myfilter(anyFunc, sequence):\n",
    "    \n",
    "    result = []\n",
    "    # if data is true than only return\n",
    "    for i in sequence:\n",
    "        \n",
    "        if anyFunc(i) == True:\n",
    "            result.append(i)\n",
    "            \n",
    "    return result\n",
    "        \n",
    "    "
   ]
  },
  {
   "cell_type": "code",
   "execution_count": 29,
   "id": "5e49982a",
   "metadata": {},
   "outputs": [
    {
     "data": {
      "text/plain": [
       "[5, 7, 7]"
      ]
     },
     "execution_count": 29,
     "metadata": {},
     "output_type": "execute_result"
    }
   ],
   "source": [
    "list(myfilter(lambda x: x%2 != 0, l))"
   ]
  },
  {
   "cell_type": "raw",
   "id": "773d5bb1",
   "metadata": {},
   "source": [
    "2. Implement List comprehensions to produce the following lists.  \n",
    "Write List comprehensions to produce the following Lists \n",
    "\n",
    "['A', 'C', 'A', 'D', 'G', 'I', ’L’, ‘ D’] \n",
    "\n",
    "['x', 'xx', 'xxx', 'xxxx', 'y', 'yy', 'yyy', 'yyyy', 'z', 'zz', 'zzz', 'zzzz']  \n",
    "\n",
    "['x', 'y', 'z', 'xx', 'yy', 'zz', 'xxx', 'yyy', 'zzz', 'xxxx', 'yyyy', 'zzzz']  \n",
    "\n",
    "[[2], [3], [4], [3], [4], [5], [4], [5], [6]] \n",
    "\n",
    "[[2, 3, 4, 5], [3, 4, 5, 6],  [4, 5, 6, 7], [5, 6, 7, 8]] \n",
    "\n",
    "[(1, 1), (2, 1), (3, 1), (1, 2), (2, 2), (3, 2), (1, 3), (2, 3), (3, 3)]"
   ]
  },
  {
   "cell_type": "code",
   "execution_count": 36,
   "id": "0a20822c",
   "metadata": {},
   "outputs": [
    {
     "data": {
      "text/plain": [
       "['A', 'C', 'A', 'D', 'G', 'I', 'L', 'D']"
      ]
     },
     "execution_count": 36,
     "metadata": {},
     "output_type": "execute_result"
    }
   ],
   "source": [
    "word =  \"ACADGILD\"\n",
    "[alphabets for alphabets in word]"
   ]
  },
  {
   "cell_type": "code",
   "execution_count": 37,
   "id": "99fc7556",
   "metadata": {},
   "outputs": [
    {
     "data": {
      "text/plain": [
       "['x', 'xx', 'xxx', 'xxxx', 'y', 'yy', 'yyy', 'yyyy', 'z', 'zz', 'zzz', 'zzzz']"
      ]
     },
     "execution_count": 37,
     "metadata": {},
     "output_type": "execute_result"
    }
   ],
   "source": [
    "l = ['x', 'y', 'z']\n",
    "[alphabets*num for alphabets in l for num in range(1,5) ]"
   ]
  },
  {
   "cell_type": "code",
   "execution_count": 38,
   "id": "7b22f702",
   "metadata": {},
   "outputs": [
    {
     "data": {
      "text/plain": [
       "['x', 'y', 'z', 'xx', 'yy', 'zz', 'xxx', 'yyy', 'zzz', 'xxxx', 'yyyy', 'zzzz']"
      ]
     },
     "execution_count": 38,
     "metadata": {},
     "output_type": "execute_result"
    }
   ],
   "source": [
    "l = ['x', 'y', 'z']\n",
    "[alphabets*num for num in range(1,5) for alphabets in l  ]"
   ]
  },
  {
   "cell_type": "code",
   "execution_count": 40,
   "id": "dd81b63b",
   "metadata": {},
   "outputs": [
    {
     "data": {
      "text/plain": [
       "[[2], [3], [4], [3], [4], [5], [4], [5], [6]]"
      ]
     },
     "execution_count": 40,
     "metadata": {},
     "output_type": "execute_result"
    }
   ],
   "source": [
    "l = [2,3,4]\n",
    "[[i+num] for i in l for num in range(0,3)]"
   ]
  },
  {
   "cell_type": "code",
   "execution_count": 43,
   "id": "7ee74342",
   "metadata": {},
   "outputs": [
    {
     "data": {
      "text/plain": [
       "[[2, 3, 4, 5], [3, 4, 5, 6], [4, 5, 6, 7], [5, 6, 7, 8]]"
      ]
     },
     "execution_count": 43,
     "metadata": {},
     "output_type": "execute_result"
    }
   ],
   "source": [
    "l = [2,3,4,5]\n",
    "[[i+num for i in l] for num in range(0,4)]"
   ]
  },
  {
   "cell_type": "code",
   "execution_count": 46,
   "id": "2506c415",
   "metadata": {},
   "outputs": [
    {
     "data": {
      "text/plain": [
       "[(1, 1), (2, 1), (3, 1), (1, 2), (2, 2), (3, 2), (1, 3), (2, 3), (3, 3)]"
      ]
     },
     "execution_count": 46,
     "metadata": {},
     "output_type": "execute_result"
    }
   ],
   "source": [
    "l = range(1,4)\n",
    "[(a,b) for b in l for a in l]"
   ]
  },
  {
   "cell_type": "code",
   "execution_count": null,
   "id": "bcee31dd",
   "metadata": {},
   "outputs": [],
   "source": []
  }
 ],
 "metadata": {
  "kernelspec": {
   "display_name": "Python 3",
   "language": "python",
   "name": "python3"
  },
  "language_info": {
   "codemirror_mode": {
    "name": "ipython",
    "version": 3
   },
   "file_extension": ".py",
   "mimetype": "text/x-python",
   "name": "python",
   "nbconvert_exporter": "python",
   "pygments_lexer": "ipython3",
   "version": "3.8.8"
  }
 },
 "nbformat": 4,
 "nbformat_minor": 5
}
