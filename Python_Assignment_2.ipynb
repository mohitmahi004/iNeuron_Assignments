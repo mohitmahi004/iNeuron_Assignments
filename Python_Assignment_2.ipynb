{
 "cells": [
  {
   "cell_type": "markdown",
   "id": "d32e3f12",
   "metadata": {},
   "source": [
    " #  Name : Mohit Mahi\n",
    " \n",
    " ## Assignment Name : Python Assignment 2 \n",
    " \n",
    " ### Company Name : iNeuron"
   ]
  },
  {
   "cell_type": "markdown",
   "id": "679037cb",
   "metadata": {},
   "source": [
    "1. Write a program which accepts a sequence of comma-separated numbers from console  and generate a list. "
   ]
  },
  {
   "cell_type": "code",
   "execution_count": 1,
   "id": "3810311f",
   "metadata": {},
   "outputs": [
    {
     "name": "stdout",
     "output_type": "stream",
     "text": [
      "Enter the comma-separated numbers: 1,2,32,112,21232,32\n",
      "['1', '2', '32', '112', '21232', '32']\n"
     ]
    },
    {
     "data": {
      "text/plain": [
       "[1, 2, 32, 112, 21232, 32]"
      ]
     },
     "execution_count": 1,
     "metadata": {},
     "output_type": "execute_result"
    }
   ],
   "source": [
    "user_input_values = input(\"Enter the comma-separated numbers: \")\n",
    "list_values = user_input_values.split(\",\")\n",
    "\n",
    "# printing list values as string\n",
    "print(list_values)\n",
    "\n",
    "# converting entire list elements in integer\n",
    "[int(i) for i in list_values]"
   ]
  },
  {
   "cell_type": "markdown",
   "id": "770eae89",
   "metadata": {},
   "source": [
    "2. Create the below pattern using nested for loop in Python. \n",
    "\n",
    "\n",
    "# * \n",
    "# * * \n",
    "# * * * \n",
    "# * * * * \n",
    "# * * * * * \n",
    "# * * * * \n",
    "# * * * \n",
    "# * * \n",
    "# * \n"
   ]
  },
  {
   "cell_type": "code",
   "execution_count": 2,
   "id": "f0a06c54",
   "metadata": {},
   "outputs": [
    {
     "name": "stdout",
     "output_type": "stream",
     "text": [
      "*\n",
      "**\n",
      "***\n",
      "****\n",
      "*****\n",
      "****\n",
      "***\n",
      "**\n",
      "*\n"
     ]
    }
   ],
   "source": [
    "for i in range(5):\n",
    "    for j in range(i+1):\n",
    "        print('*', end='')\n",
    "    print()\n",
    "for i in range(4):\n",
    "    for j in range(4, i , -1):\n",
    "        print('*', end='')\n",
    "    print()"
   ]
  },
  {
   "cell_type": "markdown",
   "id": "3a42f88e",
   "metadata": {},
   "source": [
    "3. Write a Python program to reverse a word after accepting the input from the user. \n",
    "\n",
    "Sample Output: \n",
    "\n",
    "Input word: ineuron \n",
    "\n",
    "Output: norueni\n"
   ]
  },
  {
   "cell_type": "code",
   "execution_count": 3,
   "id": "c8395f94",
   "metadata": {},
   "outputs": [
    {
     "name": "stdout",
     "output_type": "stream",
     "text": [
      "Enter a word to get in reverse order: ineuron\n",
      "Output:  norueni\n"
     ]
    }
   ],
   "source": [
    "user_input = input(\"Enter a word to get in reverse order: \")\n",
    "\n",
    "print(\"Output: \",user_input[::-1])"
   ]
  }
 ],
 "metadata": {
  "kernelspec": {
   "display_name": "Python 3",
   "language": "python",
   "name": "python3"
  },
  "language_info": {
   "codemirror_mode": {
    "name": "ipython",
    "version": 3
   },
   "file_extension": ".py",
   "mimetype": "text/x-python",
   "name": "python",
   "nbconvert_exporter": "python",
   "pygments_lexer": "ipython3",
   "version": "3.8.8"
  }
 },
 "nbformat": 4,
 "nbformat_minor": 5
}
