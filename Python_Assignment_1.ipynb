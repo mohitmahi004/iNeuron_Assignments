{
 "cells": [
  {
   "cell_type": "markdown",
   "id": "4a384c9d",
   "metadata": {},
   "source": [
    " #  Name : Mohit Mahi\n",
    " \n",
    " ## Assignment Name : Python Assignment 1\n",
    " \n",
    " ### Company Name : iNeuron"
   ]
  },
  {
   "cell_type": "raw",
   "id": "27af7cff",
   "metadata": {},
   "source": [
    "1. Install Jupyter notebook and run the first program and share the screenshot of the output."
   ]
  },
  {
   "cell_type": "code",
   "execution_count": 1,
   "id": "23dc5be6",
   "metadata": {},
   "outputs": [
    {
     "name": "stdout",
     "output_type": "stream",
     "text": [
      "hello world\n"
     ]
    }
   ],
   "source": [
    "print('hello world')"
   ]
  },
  {
   "cell_type": "raw",
   "id": "a40eca10",
   "metadata": {
    "id": "K8OPXPsjOz6m"
   },
   "source": [
    " 2. Write a program which will find all such numbers which are divisible by 7 but are not a multiple of 5, between 2000 and 3200 (both included). The numbers obtained should be printed in a comma-separated sequence on a single line."
   ]
  },
  {
   "cell_type": "code",
   "execution_count": 2,
   "id": "a5c789e0",
   "metadata": {
    "colab": {
     "base_uri": "https://localhost:8080/"
    },
    "id": "qbHSMYj_Nu83",
    "outputId": "71d2af97-0e29-42c4-c24b-27ae4ca89441"
   },
   "outputs": [
    {
     "name": "stdout",
     "output_type": "stream",
     "text": [
      "2002, 2009, 2016, 2023, 2037, 2044, 2051, 2058, 2072, 2079, 2086, 2093, 2107, 2114, 2121, 2128, 2142, 2149, 2156, 2163, 2177, 2184, 2191, 2198, 2212, 2219, 2226, 2233, 2247, 2254, 2261, 2268, 2282, 2289, 2296, 2303, 2317, 2324, 2331, 2338, 2352, 2359, 2366, 2373, 2387, 2394, 2401, 2408, 2422, 2429, 2436, 2443, 2457, 2464, 2471, 2478, 2492, 2499, 2506, 2513, 2527, 2534, 2541, 2548, 2562, 2569, 2576, 2583, 2597, 2604, 2611, 2618, 2632, 2639, 2646, 2653, 2667, 2674, 2681, 2688, 2702, 2709, 2716, 2723, 2737, 2744, 2751, 2758, 2772, 2779, 2786, 2793, 2807, 2814, 2821, 2828, 2842, 2849, 2856, 2863, 2877, 2884, 2891, 2898, 2912, 2919, 2926, 2933, 2947, 2954, 2961, 2968, 2982, 2989, 2996, 3003, 3017, 3024, 3031, 3038, 3052, 3059, 3066, 3073, 3087, 3094, 3101, 3108, 3122, 3129, 3136, 3143, 3157, 3164, 3171, 3178, 3192, 3199, "
     ]
    }
   ],
   "source": [
    "for i in range(2000, 3201):\n",
    "  if(i%7 == 0 and i%5 != 0):\n",
    "    print(i, end=(', '))"
   ]
  },
  {
   "cell_type": "raw",
   "id": "5f868a12",
   "metadata": {
    "id": "U0jT1UpsQU5S"
   },
   "source": [
    "3. Write a Python program to accept the user's first and last name and then getting them printed in the the reverse order with a space between first name and last name.\n",
    "\n"
   ]
  },
  {
   "cell_type": "code",
   "execution_count": 3,
   "id": "9055cd4c",
   "metadata": {
    "colab": {
     "base_uri": "https://localhost:8080/"
    },
    "id": "XCT6GTy8QGsk",
    "outputId": "89688b2a-f147-4f97-88a5-aa0c48899640"
   },
   "outputs": [
    {
     "name": "stdout",
     "output_type": "stream",
     "text": [
      "Please enter first name:Mohit\n",
      "Please enter last name:Mahi\n",
      "Mahi Mohit\n"
     ]
    }
   ],
   "source": [
    "first_name = input('Please enter first name:')    \n",
    "last_name = input('Please enter last name:')    \n",
    "print(last_name,first_name)"
   ]
  },
  {
   "cell_type": "raw",
   "id": "bbb9da5d",
   "metadata": {
    "id": "uqPG5pBASj8p"
   },
   "source": [
    "4. Write a Python program to find the volume of a sphere with diameter 12 cm.\n",
    "\n",
    "  Formula: V=4/3 * π * r 3 \n"
   ]
  },
  {
   "cell_type": "code",
   "execution_count": 4,
   "id": "ffc5384e",
   "metadata": {
    "colab": {
     "base_uri": "https://localhost:8080/"
    },
    "id": "CqrK1L7nRq3Y",
    "outputId": "1be4af92-ac22-436a-8105-4191d1308a9a"
   },
   "outputs": [
    {
     "name": "stdout",
     "output_type": "stream",
     "text": [
      "Volume of Sphere with diameter is 904.7786842338603 cm3\n"
     ]
    }
   ],
   "source": [
    "from math import pi\n",
    "\n",
    "d = 12\n",
    "r = d/2\n",
    "\n",
    "# the volume of a sphere\n",
    "\n",
    "V = ((4/3) * pi * (r ** 3))\n",
    "\n",
    "print(\"Volume of Sphere with diameter is\", V ,'cm3')"
   ]
  }
 ],
 "metadata": {
  "kernelspec": {
   "display_name": "Python 3",
   "language": "python",
   "name": "python3"
  },
  "language_info": {
   "codemirror_mode": {
    "name": "ipython",
    "version": 3
   },
   "file_extension": ".py",
   "mimetype": "text/x-python",
   "name": "python",
   "nbconvert_exporter": "python",
   "pygments_lexer": "ipython3",
   "version": "3.8.8"
  }
 },
 "nbformat": 4,
 "nbformat_minor": 5
}
